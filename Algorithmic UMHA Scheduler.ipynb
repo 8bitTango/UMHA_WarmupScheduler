{
 "cells": [
  {
   "cell_type": "code",
   "execution_count": 1,
   "id": "36d3c39c",
   "metadata": {},
   "outputs": [],
   "source": [
    "from datetime import datetime, timedelta\n",
    "\n",
    "start, end = datetime(2022, 5, 1), datetime(2022, 8, 1)\n",
    "days = (start + timedelta(days=i) for i in range((end - start).days + 1))\n",
    "date_list = [d for d in days if d.weekday() in [1,3] ]\n"
   ]
  },
  {
   "cell_type": "code",
   "execution_count": 2,
   "id": "e4f6ed2f",
   "metadata": {},
   "outputs": [
    {
     "name": "stdout",
     "output_type": "stream",
     "text": [
      "['Tue, 03 May', 'Thu, 05 May', 'Tue, 10 May', 'Thu, 12 May', 'Tue, 17 May', 'Thu, 19 May', 'Tue, 24 May', 'Thu, 26 May', 'Tue, 31 May', 'Thu, 02 Jun', 'Tue, 07 Jun', 'Thu, 09 Jun', 'Tue, 14 Jun', 'Thu, 16 Jun', 'Tue, 21 Jun', 'Thu, 23 Jun', 'Tue, 28 Jun', 'Thu, 30 Jun', 'Tue, 05 Jul', 'Thu, 07 Jul', 'Tue, 12 Jul', 'Thu, 14 Jul', 'Tue, 19 Jul', 'Thu, 21 Jul', 'Tue, 26 Jul', 'Thu, 28 Jul']\n"
     ]
    }
   ],
   "source": [
    "date_list = [d.strftime(\"%a, %d %b\") for d in date_list]\n",
    "print(date_list)"
   ]
  },
  {
   "cell_type": "code",
   "execution_count": 3,
   "id": "4f04eada",
   "metadata": {},
   "outputs": [],
   "source": [
    "roster_length = len(date_list)"
   ]
  },
  {
   "cell_type": "code",
   "execution_count": 4,
   "id": "ca117dc2",
   "metadata": {},
   "outputs": [],
   "source": [
    "tuesdays = range(1, roster_length+1, 2)\n",
    "thursdays = range(2, roster_length+1, 2)\n",
    "both_days = range(1, roster_length+1)\n",
    "june = range(10, 19)"
   ]
  },
  {
   "cell_type": "markdown",
   "id": "e5a570d2",
   "metadata": {},
   "source": [
    "dan_availability = tuesdays\n",
    "steven_availability = thursdays\n",
    "jacinta_availability = both_days\n",
    "matt_availability = both_days\n",
    "peter_availability = both_days\n",
    "khorneflake_availability = both_days\n",
    "benw_availability = both_days\n",
    "chris_availability = both_days\n",
    "lee_availability = both_days\n",
    "josh_availability = both_days\n",
    "luke_availability = thursdays"
   ]
  },
  {
   "cell_type": "code",
   "execution_count": 5,
   "id": "c744317d",
   "metadata": {},
   "outputs": [],
   "source": [
    "davidc_availability = (2,8,14,26) # special boy needs manual entry jfc"
   ]
  },
  {
   "cell_type": "code",
   "execution_count": 6,
   "id": "e23dea79",
   "metadata": {},
   "outputs": [],
   "source": [
    "member_dan = [\"Dan\", tuesdays]\n",
    "member_steven = [\"Steven\", thursdays]\n",
    "member_jacinta = [\"Jacinta\", both_days]\n",
    "#member_matt = [\"Matt Jam\", both_days]\n",
    "#member_peter = [\"Peter Chisholm\", both_days]\n",
    "#member_kirra = [\"Kirra\", both_days]\n",
    "member_khorneflake = [\"Khorneflake\", both_days]\n",
    "member_benw = [\"Ben Waite\", june]\n",
    "member_chris = [\"Charlie\", both_days]\n",
    "member_davidc = [\"David Critchley\", davidc_availability]\n",
    "member_lee = [\"Lee\", both_days]\n",
    "member_josh = [\"Josh\", both_days]\n",
    "member_benl = [\"Ben Lloyd\", both_days]\n",
    "member_luke = [\"Luke\", thursdays]"
   ]
  },
  {
   "cell_type": "code",
   "execution_count": 7,
   "id": "eb13d871",
   "metadata": {},
   "outputs": [],
   "source": [
    "members = [member_davidc, \n",
    "           member_dan, \n",
    "           member_steven, \n",
    "           member_jacinta, \n",
    "           #member_matt, \n",
    "           #member_peter, \n",
    "           #member_kirra,\n",
    "           member_chris, \n",
    "           member_khorneflake, \n",
    "           member_benw, \n",
    "           member_lee, \n",
    "           member_josh, \n",
    "           member_benl, \n",
    "           member_luke]"
   ]
  },
  {
   "cell_type": "code",
   "execution_count": 8,
   "id": "bf88719d",
   "metadata": {},
   "outputs": [],
   "source": [
    "member_idle = [99]*len(members)\n",
    "# would be nice to carry this over from previous schedules"
   ]
  },
  {
   "cell_type": "code",
   "execution_count": 9,
   "id": "8f7dcd6b",
   "metadata": {},
   "outputs": [
    {
     "name": "stdout",
     "output_type": "stream",
     "text": [
      "David Critchley\n",
      "Dan\n",
      "Steven\n",
      "Jacinta\n",
      "Charlie\n",
      "Khorneflake\n",
      "Ben Waite\n",
      "Lee\n",
      "Josh\n",
      "Ben Lloyd\n",
      "Luke\n"
     ]
    }
   ],
   "source": [
    "for member in members:\n",
    "    print(member[0])"
   ]
  },
  {
   "cell_type": "code",
   "execution_count": 10,
   "id": "7f9b6cb3",
   "metadata": {},
   "outputs": [],
   "source": [
    "days = range(1,roster_length+1)"
   ]
  },
  {
   "cell_type": "code",
   "execution_count": 11,
   "id": "340851f0",
   "metadata": {},
   "outputs": [],
   "source": [
    "task_schedule = []"
   ]
  },
  {
   "cell_type": "code",
   "execution_count": 12,
   "id": "c865affa",
   "metadata": {},
   "outputs": [
    {
     "name": "stdout",
     "output_type": "stream",
     "text": [
      "Members idle on day  1 :  [0, 99, 0, 99, 99, 99, 0, 99, 99, 99, 0]\n",
      "Members idle on day  2 :  [100, 0, 100, 100, 100, 100, 0, 100, 100, 100, 100]\n",
      "Members idle on day  3 :  [0, 2, 0, 101, 101, 101, 0, 101, 101, 101, 0]\n",
      "Members idle on day  4 :  [0, 0, 102, 1, 102, 102, 0, 102, 102, 102, 102]\n",
      "Members idle on day  5 :  [0, 4, 0, 2, 103, 103, 0, 103, 103, 103, 0]\n",
      "Members idle on day  6 :  [0, 0, 2, 3, 1, 104, 0, 104, 104, 104, 104]\n",
      "Members idle on day  7 :  [0, 6, 0, 4, 2, 1, 0, 105, 105, 105, 0]\n",
      "Members idle on day  8 :  [6, 0, 4, 5, 3, 2, 0, 1, 106, 106, 106]\n",
      "Members idle on day  9 :  [0, 8, 0, 6, 4, 3, 0, 2, 1, 107, 0]\n",
      "Members idle on day  10 :  [0, 0, 6, 7, 5, 4, 108, 3, 2, 1, 108]\n",
      "Members idle on day  11 :  [0, 10, 0, 8, 6, 5, 1, 4, 3, 2, 0]\n",
      "Members idle on day  12 :  [0, 0, 8, 9, 7, 6, 2, 5, 4, 3, 110]\n",
      "Members idle on day  13 :  [0, 2, 0, 10, 8, 7, 3, 6, 5, 4, 0]\n",
      "Members idle on day  14 :  [12, 0, 10, 1, 9, 8, 4, 7, 6, 5, 2]\n",
      "Members idle on day  15 :  [0, 4, 0, 2, 10, 9, 5, 8, 7, 6, 0]\n",
      "Members idle on day  16 :  [0, 0, 12, 3, 1, 10, 6, 9, 8, 7, 4]\n",
      "Members idle on day  17 :  [0, 6, 0, 4, 2, 11, 7, 10, 9, 8, 0]\n",
      "Members idle on day  18 :  [0, 0, 2, 5, 3, 1, 8, 11, 10, 9, 6]\n",
      "Members idle on day  19 :  [0, 8, 0, 6, 4, 2, 0, 1, 11, 10, 0]\n",
      "Members idle on day  20 :  [0, 0, 4, 7, 5, 3, 0, 2, 1, 11, 8]\n",
      "Members idle on day  21 :  [0, 10, 0, 8, 6, 4, 0, 3, 2, 1, 0]\n",
      "Members idle on day  22 :  [0, 0, 6, 9, 7, 5, 0, 4, 3, 2, 10]\n",
      "Members idle on day  23 :  [0, 2, 0, 10, 8, 6, 0, 5, 4, 3, 0]\n",
      "Members idle on day  24 :  [0, 0, 8, 1, 9, 7, 0, 6, 5, 4, 2]\n",
      "Members idle on day  25 :  [0, 4, 0, 2, 1, 8, 0, 7, 6, 5, 0]\n",
      "Members idle on day  26 :  [12, 0, 10, 3, 2, 1, 0, 8, 7, 6, 4]\n"
     ]
    }
   ],
   "source": [
    "for day in days:\n",
    "    members_available = [0]*len(members)\n",
    "    for member in members:\n",
    "        if day in member[1]:\n",
    "            #print(member[0], \" is available on day \", day)\n",
    "            #members_available.append(members.index(member))\n",
    "            members_available[members.index(member)] = 1\n",
    "    #print(\"Members available on day \", day, \": \", members_available)\n",
    "    #find available member with highest idle time\n",
    "    available_idle = [a * b for a, b in zip(members_available, member_idle)]\n",
    "    print(\"Members idle on day \", day, \": \", available_idle)\n",
    "    max_idle = max(available_idle)\n",
    "    #print(\"Maximum idle time among members : \", max_idle)\n",
    "    tasked_member = available_idle.index(max_idle)\n",
    "    #print(\"Member tasked : \", tasked_member)\n",
    "    #assign task and update idle time for the tasked member\n",
    "    task_schedule.append(members[tasked_member][0])\n",
    "    member_idle[tasked_member] = 0\n",
    "    #increment idle time for all members\n",
    "    member_idle = [x+1 for x in member_idle]"
   ]
  },
  {
   "cell_type": "code",
   "execution_count": 13,
   "id": "4f4e3662",
   "metadata": {},
   "outputs": [
    {
     "name": "stdout",
     "output_type": "stream",
     "text": [
      "['Dan', 'David Critchley', 'Jacinta', 'Steven', 'Charlie', 'Khorneflake', 'Lee', 'Josh', 'Ben Lloyd', 'Ben Waite', 'Dan', 'Luke', 'Jacinta', 'David Critchley', 'Charlie', 'Steven', 'Khorneflake', 'Lee', 'Josh', 'Ben Lloyd', 'Dan', 'Luke', 'Jacinta', 'Charlie', 'Khorneflake', 'David Critchley']\n"
     ]
    }
   ],
   "source": [
    "print(task_schedule)"
   ]
  },
  {
   "cell_type": "code",
   "execution_count": 14,
   "id": "2c995d46",
   "metadata": {},
   "outputs": [],
   "source": [
    "import pandas as pd"
   ]
  },
  {
   "cell_type": "code",
   "execution_count": 15,
   "id": "ea69e4d3",
   "metadata": {},
   "outputs": [
    {
     "name": "stdout",
     "output_type": "stream",
     "text": [
      "26\n"
     ]
    }
   ],
   "source": [
    "print(len(task_schedule))"
   ]
  },
  {
   "cell_type": "code",
   "execution_count": 16,
   "id": "436cb3a4",
   "metadata": {},
   "outputs": [
    {
     "name": "stdout",
     "output_type": "stream",
     "text": [
      "26\n"
     ]
    }
   ],
   "source": [
    "print(len(date_list))"
   ]
  },
  {
   "cell_type": "code",
   "execution_count": 17,
   "id": "81c2a05e",
   "metadata": {},
   "outputs": [],
   "source": [
    "data = {'Day':date_list, 'Warmup':task_schedule} \n",
    "\n",
    "df = pd.DataFrame(data)"
   ]
  },
  {
   "cell_type": "code",
   "execution_count": 18,
   "id": "751dcbd1",
   "metadata": {},
   "outputs": [
    {
     "name": "stdout",
     "output_type": "stream",
     "text": [
      "            Day           Warmup\n",
      "0   Tue, 03 May              Dan\n",
      "1   Thu, 05 May  David Critchley\n",
      "2   Tue, 10 May          Jacinta\n",
      "3   Thu, 12 May           Steven\n",
      "4   Tue, 17 May          Charlie\n",
      "5   Thu, 19 May      Khorneflake\n",
      "6   Tue, 24 May              Lee\n",
      "7   Thu, 26 May             Josh\n",
      "8   Tue, 31 May        Ben Lloyd\n",
      "9   Thu, 02 Jun        Ben Waite\n",
      "10  Tue, 07 Jun              Dan\n",
      "11  Thu, 09 Jun             Luke\n",
      "12  Tue, 14 Jun          Jacinta\n",
      "13  Thu, 16 Jun  David Critchley\n",
      "14  Tue, 21 Jun          Charlie\n",
      "15  Thu, 23 Jun           Steven\n",
      "16  Tue, 28 Jun      Khorneflake\n",
      "17  Thu, 30 Jun              Lee\n",
      "18  Tue, 05 Jul             Josh\n",
      "19  Thu, 07 Jul        Ben Lloyd\n",
      "20  Tue, 12 Jul              Dan\n",
      "21  Thu, 14 Jul             Luke\n",
      "22  Tue, 19 Jul          Jacinta\n",
      "23  Thu, 21 Jul          Charlie\n",
      "24  Tue, 26 Jul      Khorneflake\n",
      "25  Thu, 28 Jul  David Critchley\n"
     ]
    }
   ],
   "source": [
    "print(df)"
   ]
  },
  {
   "cell_type": "code",
   "execution_count": 19,
   "id": "fd59de31",
   "metadata": {},
   "outputs": [],
   "source": [
    "idle_data = {'Member':(member[0] for member in members), 'Idle Time':member_idle}\n",
    "\n",
    "df2 = pd.DataFrame(idle_data)"
   ]
  },
  {
   "cell_type": "code",
   "execution_count": 21,
   "id": "876b424d",
   "metadata": {},
   "outputs": [],
   "source": [
    "df.to_excel(\"WarmupMayToJune.xlsx\")\n",
    "\n",
    "with pd.ExcelWriter('WarmupMayToJune.xlsx',\n",
    "                    mode='a') as writer:\n",
    "    df2.to_excel(writer, sheet_name='Sheet2')"
   ]
  },
  {
   "cell_type": "code",
   "execution_count": null,
   "id": "ebd6b303",
   "metadata": {},
   "outputs": [],
   "source": []
  }
 ],
 "metadata": {
  "kernelspec": {
   "display_name": "Python 3 (ipykernel)",
   "language": "python",
   "name": "python3"
  },
  "language_info": {
   "codemirror_mode": {
    "name": "ipython",
    "version": 3
   },
   "file_extension": ".py",
   "mimetype": "text/x-python",
   "name": "python",
   "nbconvert_exporter": "python",
   "pygments_lexer": "ipython3",
   "version": "3.10.2"
  }
 },
 "nbformat": 4,
 "nbformat_minor": 5
}
