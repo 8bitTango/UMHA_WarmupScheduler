{
 "cells": [
  {
   "cell_type": "code",
   "execution_count": 1,
   "id": "20829c3c",
   "metadata": {},
   "outputs": [],
   "source": [
    "dan_availability = (1,3,5,7)\n",
    "steven_availability = (1,2,3,4,5,6,7,8)\n",
    "jacinta_availability = (1,2,3,4,5,6,7,8)\n",
    "luke_availability = (2,4,6,8)"
   ]
  },
  {
   "cell_type": "code",
   "execution_count": 2,
   "id": "e23dea79",
   "metadata": {},
   "outputs": [],
   "source": [
    "member_dan = [\"Dan\", dan_availability]\n",
    "member_steven = [\"Steven\", steven_availability]\n",
    "member_jacinta = [\"Jacinta\", jacinta_availability]\n",
    "member_luke = [\"Luke\", luke_availability]"
   ]
  },
  {
   "cell_type": "code",
   "execution_count": 3,
   "id": "eb13d871",
   "metadata": {},
   "outputs": [],
   "source": [
    "members = [member_dan, member_steven, member_jacinta, member_luke]"
   ]
  },
  {
   "cell_type": "code",
   "execution_count": 4,
   "id": "bf88719d",
   "metadata": {},
   "outputs": [],
   "source": [
    "member_idle = [99]*len(members)\n",
    "# would be nice to carry this over from previous schedules"
   ]
  },
  {
   "cell_type": "code",
   "execution_count": 5,
   "id": "8f7dcd6b",
   "metadata": {},
   "outputs": [
    {
     "name": "stdout",
     "output_type": "stream",
     "text": [
      "Dan\n",
      "Steven\n",
      "Jacinta\n",
      "Luke\n"
     ]
    }
   ],
   "source": [
    "for member in members:\n",
    "    print(member[0])"
   ]
  },
  {
   "cell_type": "code",
   "execution_count": 6,
   "id": "7f9b6cb3",
   "metadata": {},
   "outputs": [],
   "source": [
    "days = range(1,9)"
   ]
  },
  {
   "cell_type": "code",
   "execution_count": 7,
   "id": "340851f0",
   "metadata": {},
   "outputs": [],
   "source": [
    "task_schedule = []"
   ]
  },
  {
   "cell_type": "code",
   "execution_count": 8,
   "id": "c865affa",
   "metadata": {},
   "outputs": [
    {
     "name": "stdout",
     "output_type": "stream",
     "text": [
      "Members available on day  1 :  [1, 1, 1, 0]\n",
      "Members available on day  2 :  [0, 1, 1, 1]\n",
      "Members available on day  3 :  [1, 1, 1, 0]\n",
      "Members available on day  4 :  [0, 1, 1, 1]\n",
      "Members available on day  5 :  [1, 1, 1, 0]\n",
      "Members available on day  6 :  [0, 1, 1, 1]\n",
      "Members available on day  7 :  [1, 1, 1, 0]\n",
      "Members available on day  8 :  [0, 1, 1, 1]\n"
     ]
    }
   ],
   "source": [
    "for day in days:\n",
    "    members_available = [0]*len(members)\n",
    "    for member in members:\n",
    "        if day in member[1]:\n",
    "            #print(member[0], \" is available on day \", day)\n",
    "            #members_available.append(members.index(member))\n",
    "            members_available[members.index(member)] = 1\n",
    "    print(\"Members available on day \", day, \": \", members_available)\n",
    "    #find available member with highest idle time\n",
    "    available_idle = [a * b for a, b in zip(members_available, member_idle)]\n",
    "    max_idle = max(available_idle)\n",
    "    tasked_member = member_idle.index(max_idle)\n",
    "    #assign task and update idle time for the tasked member\n",
    "    task_schedule.append(members[tasked_member][0])\n",
    "    member_idle[tasked_member] = 0\n",
    "    #increment idle time for all members\n",
    "    member_idle = [x+1 for x in member_idle]"
   ]
  },
  {
   "cell_type": "code",
   "execution_count": 9,
   "id": "4f4e3662",
   "metadata": {},
   "outputs": [
    {
     "name": "stdout",
     "output_type": "stream",
     "text": [
      "['Dan', 'Steven', 'Jacinta', 'Luke', 'Dan', 'Steven', 'Jacinta', 'Luke']\n"
     ]
    }
   ],
   "source": [
    "print(task_schedule)"
   ]
  },
  {
   "cell_type": "code",
   "execution_count": null,
   "id": "2c995d46",
   "metadata": {},
   "outputs": [],
   "source": []
  }
 ],
 "metadata": {
  "kernelspec": {
   "display_name": "Python 3 (ipykernel)",
   "language": "python",
   "name": "python3"
  },
  "language_info": {
   "codemirror_mode": {
    "name": "ipython",
    "version": 3
   },
   "file_extension": ".py",
   "mimetype": "text/x-python",
   "name": "python",
   "nbconvert_exporter": "python",
   "pygments_lexer": "ipython3",
   "version": "3.10.2"
  }
 },
 "nbformat": 4,
 "nbformat_minor": 5
}
